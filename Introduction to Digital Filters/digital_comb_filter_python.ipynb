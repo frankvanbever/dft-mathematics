version https://git-lfs.github.com/spec/v1
oid sha256:53ae11dd71a4f7d25c94033937cd3cb612aea875113a20d417e90da49804f4e3
size 131000
