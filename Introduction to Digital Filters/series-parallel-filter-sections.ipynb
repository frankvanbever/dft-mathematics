version https://git-lfs.github.com/spec/v1
oid sha256:48d92c5cf1f39e5f37a6b8b4a8e3a1fa84ec202c0dff1e0b21770ab9d73356ef
size 2107
