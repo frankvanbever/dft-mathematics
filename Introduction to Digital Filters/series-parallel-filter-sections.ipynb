{
 "cells": [
  {
   "cell_type": "markdown",
   "id": "e6213ce8-0ec7-4dc1-95d6-66876441993e",
   "metadata": {},
   "source": [
    "# Series and Parallel Filter Sections\n",
    "\n",
    "Filters are often better off being split into first- and second-roder *elementary sections* due to numerical reasons.\n",
    "\n",
    "the function `tf2sos` converts a transfer function form to a series of second-order-section form. In Matlab functions this could be implemented as `tf2zp` which converts a transfer function form into zero-pole form, followed by `zp2sos` which converts zero-pole form into a series of second-order-sections form.\n",
    "\n",
    "Let's recreate the code from the book in Python.\n"
   ]
  }
 ],
 "metadata": {
  "kernelspec": {
   "display_name": "Python 3 (ipykernel)",
   "language": "python",
   "name": "python3"
  },
  "language_info": {
   "codemirror_mode": {
    "name": "ipython",
    "version": 3
   },
   "file_extension": ".py",
   "mimetype": "text/x-python",
   "name": "python",
   "nbconvert_exporter": "python",
   "pygments_lexer": "ipython3",
   "version": "3.12.3"
  }
 },
 "nbformat": 4,
 "nbformat_minor": 5
}
