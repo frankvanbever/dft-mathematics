version https://git-lfs.github.com/spec/v1
oid sha256:c9a55ad489cd9de21ae06b2485b11d104d825887c02b08985c011b4078bd274b
size 981533
