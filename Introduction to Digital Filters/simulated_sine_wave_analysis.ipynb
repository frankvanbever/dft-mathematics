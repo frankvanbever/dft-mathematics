version https://git-lfs.github.com/spec/v1
oid sha256:5749c0f50707c956e77a0d754f5f5f0b2b1d1ca34c1f5c89edba04cd384f6145
size 4982
