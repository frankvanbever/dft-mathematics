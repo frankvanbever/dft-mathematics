version https://git-lfs.github.com/spec/v1
oid sha256:fced376db31819ad7f28b02f231374ad096b6f5e41c14d009136b07d6f880ecb
size 1000265
