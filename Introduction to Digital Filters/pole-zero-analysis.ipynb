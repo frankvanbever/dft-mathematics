version https://git-lfs.github.com/spec/v1
oid sha256:8eea0e3e2de1d56444996c0ee22606fb790bfb2d76deba9a5fb1c18efedbe17e
size 49609
