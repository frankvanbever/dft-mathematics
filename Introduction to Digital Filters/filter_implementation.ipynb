version https://git-lfs.github.com/spec/v1
oid sha256:35a2332ce56c9686079fc1f2e17205d893c1d15aca52147611e80e575f5f2db8
size 3226
