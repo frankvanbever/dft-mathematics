version https://git-lfs.github.com/spec/v1
oid sha256:29685096622b875331a052542642a6ccf532b512db239f9b15777b66cb7d0fe8
size 3226
