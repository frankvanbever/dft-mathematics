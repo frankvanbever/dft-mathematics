version https://git-lfs.github.com/spec/v1
oid sha256:6663b6ad72d541e43a9726c619c2adc7a3edca2361c433d369e7f400e6dbd95a
size 1043525
