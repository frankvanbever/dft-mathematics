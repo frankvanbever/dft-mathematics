version https://git-lfs.github.com/spec/v1
oid sha256:d5caa126e2ba230ffde3eafea4a0fbe982c621649aff8d4bbe64f882f8e8b5c5
size 1043525
