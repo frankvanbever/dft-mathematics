version https://git-lfs.github.com/spec/v1
oid sha256:39cd8d540c141659a7f8418ec62594ecadb71a2af8eb3c6bd0648509149b4d99
size 457950
