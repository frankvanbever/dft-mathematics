version https://git-lfs.github.com/spec/v1
oid sha256:a0ae23e29fa00655a09484d5b7e200df73bb3aa424b55d28afd72d4621c64c32
size 538822
